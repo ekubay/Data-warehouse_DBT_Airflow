{
 "cells": [
  {
   "cell_type": "markdown",
   "id": "b5c38139",
   "metadata": {},
   "source": [
    "## EDA fo the trajector dataset"
   ]
  },
  {
   "cell_type": "code",
   "execution_count": 32,
   "id": "0c9e0be3",
   "metadata": {},
   "outputs": [
    {
     "name": "stdout",
     "output_type": "stream",
     "text": [
      "The autoreload extension is already loaded. To reload it, use:\n",
      "  %reload_ext autoreload\n"
     ]
    }
   ],
   "source": [
    "# \n",
    "import pandas as pd\n",
    "%load_ext autoreload\n",
    "%autoreload 2"
   ]
  },
  {
   "cell_type": "code",
   "execution_count": 36,
   "id": "5b9a922b",
   "metadata": {},
   "outputs": [],
   "source": [
    "import warnings\n",
    "import pandas as pd\n",
    "import matplotlib.pyplot as plt\n",
    "%matplotlib inline "
   ]
  },
  {
   "cell_type": "code",
   "execution_count": null,
   "id": "85165cb5",
   "metadata": {},
   "outputs": [],
   "source": [
    "warnings.filterwarnings('ignore')"
   ]
  },
  {
   "cell_type": "code",
   "execution_count": 37,
   "id": "bc775b73",
   "metadata": {},
   "outputs": [
    {
     "name": "stderr",
     "output_type": "stream",
     "text": [
      "C:\\Users\\Ekubay\\AppData\\Local\\Temp/ipykernel_4440/105365797.py:1: ParserWarning: Falling back to the 'python' engine because the 'c' engine does not support regex separators (separators > 1 char and different from '\\s+' are interpreted as regex); you can avoid this warning by specifying engine='python'.\n",
      "  df = pd.read_csv(\"data_trajectory.csv\", sep=\"[,;:]\", index_col=False, error_bad_lines=False)\n",
      "C:\\Users\\Ekubay\\AppData\\Local\\Temp/ipykernel_4440/105365797.py:1: FutureWarning: The error_bad_lines argument has been deprecated and will be removed in a future version. Use on_bad_lines in the future.\n",
      "\n",
      "\n",
      "  df = pd.read_csv(\"data_trajectory.csv\", sep=\"[,;:]\", index_col=False, error_bad_lines=False)\n",
      "C:\\Users\\Ekubay\\AppData\\Local\\Temp/ipykernel_4440/105365797.py:1: ParserWarning: Length of header or names does not match length of data. This leads to a loss of data with index_col=False.\n",
      "  df = pd.read_csv(\"data_trajectory.csv\", sep=\"[,;:]\", index_col=False, error_bad_lines=False)\n"
     ]
    }
   ],
   "source": [
    "df = pd.read_csv(\"data_trajectory.csv\", sep=\"[,;:]\", index_col=False, error_bad_lines=False)"
   ]
  },
  {
   "cell_type": "code",
   "execution_count": 49,
   "id": "66b868e2",
   "metadata": {},
   "outputs": [
    {
     "data": {
      "text/html": [
       "<div>\n",
       "<style scoped>\n",
       "    .dataframe tbody tr th:only-of-type {\n",
       "        vertical-align: middle;\n",
       "    }\n",
       "\n",
       "    .dataframe tbody tr th {\n",
       "        vertical-align: top;\n",
       "    }\n",
       "\n",
       "    .dataframe thead th {\n",
       "        text-align: right;\n",
       "    }\n",
       "</style>\n",
       "<table border=\"1\" class=\"dataframe\">\n",
       "  <thead>\n",
       "    <tr style=\"text-align: right;\">\n",
       "      <th></th>\n",
       "      <th>track_id</th>\n",
       "      <th>type</th>\n",
       "      <th>traveled_d</th>\n",
       "      <th>avg_speed</th>\n",
       "      <th>lat</th>\n",
       "      <th>lon</th>\n",
       "      <th>speed</th>\n",
       "      <th>lon_acc</th>\n",
       "      <th>lat_acc</th>\n",
       "      <th>time</th>\n",
       "    </tr>\n",
       "  </thead>\n",
       "  <tbody>\n",
       "    <tr>\n",
       "      <th>0</th>\n",
       "      <td>1</td>\n",
       "      <td>Car</td>\n",
       "      <td>48.85</td>\n",
       "      <td>9.770344</td>\n",
       "      <td>37.977391</td>\n",
       "      <td>23.737688</td>\n",
       "      <td>4.9178</td>\n",
       "      <td>0.0518</td>\n",
       "      <td>-0.0299</td>\n",
       "      <td>0.0</td>\n",
       "    </tr>\n",
       "    <tr>\n",
       "      <th>1</th>\n",
       "      <td>2</td>\n",
       "      <td>Motorcycle</td>\n",
       "      <td>98.09</td>\n",
       "      <td>19.839417</td>\n",
       "      <td>37.977642</td>\n",
       "      <td>23.737400</td>\n",
       "      <td>16.9759</td>\n",
       "      <td>-0.0361</td>\n",
       "      <td>-0.0228</td>\n",
       "      <td>0.0</td>\n",
       "    </tr>\n",
       "    <tr>\n",
       "      <th>2</th>\n",
       "      <td>3</td>\n",
       "      <td>Motorcycle</td>\n",
       "      <td>63.80</td>\n",
       "      <td>18.228752</td>\n",
       "      <td>37.977997</td>\n",
       "      <td>23.737264</td>\n",
       "      <td>20.1906</td>\n",
       "      <td>-0.0795</td>\n",
       "      <td>-0.3395</td>\n",
       "      <td>0.0</td>\n",
       "    </tr>\n",
       "    <tr>\n",
       "      <th>3</th>\n",
       "      <td>4</td>\n",
       "      <td>Motorcycle</td>\n",
       "      <td>145.72</td>\n",
       "      <td>26.229014</td>\n",
       "      <td>37.978135</td>\n",
       "      <td>23.737072</td>\n",
       "      <td>2.7555</td>\n",
       "      <td>-0.0302</td>\n",
       "      <td>0.0948</td>\n",
       "      <td>0.0</td>\n",
       "    </tr>\n",
       "    <tr>\n",
       "      <th>4</th>\n",
       "      <td>5</td>\n",
       "      <td>Motorcycle</td>\n",
       "      <td>138.01</td>\n",
       "      <td>24.841425</td>\n",
       "      <td>37.978134</td>\n",
       "      <td>23.737103</td>\n",
       "      <td>0.0000</td>\n",
       "      <td>0.0000</td>\n",
       "      <td>0.0000</td>\n",
       "      <td>0.0</td>\n",
       "    </tr>\n",
       "  </tbody>\n",
       "</table>\n",
       "</div>"
      ],
      "text/plain": [
       "   track_id         type   traveled_d   avg_speed        lat        lon  \\\n",
       "0         1          Car        48.85    9.770344  37.977391  23.737688   \n",
       "1         2   Motorcycle        98.09   19.839417  37.977642  23.737400   \n",
       "2         3   Motorcycle        63.80   18.228752  37.977997  23.737264   \n",
       "3         4   Motorcycle       145.72   26.229014  37.978135  23.737072   \n",
       "4         5   Motorcycle       138.01   24.841425  37.978134  23.737103   \n",
       "\n",
       "     speed   lon_acc   lat_acc   time  \n",
       "0   4.9178    0.0518   -0.0299    0.0  \n",
       "1  16.9759   -0.0361   -0.0228    0.0  \n",
       "2  20.1906   -0.0795   -0.3395    0.0  \n",
       "3   2.7555   -0.0302    0.0948    0.0  \n",
       "4   0.0000    0.0000    0.0000    0.0  "
      ]
     },
     "execution_count": 49,
     "metadata": {},
     "output_type": "execute_result"
    }
   ],
   "source": [
    "df.head()"
   ]
  },
  {
   "cell_type": "code",
   "execution_count": 50,
   "id": "e645f7a1",
   "metadata": {},
   "outputs": [
    {
     "data": {
      "text/plain": [
       "(922, 10)"
      ]
     },
     "execution_count": 50,
     "metadata": {},
     "output_type": "execute_result"
    }
   ],
   "source": [
    "df.shape"
   ]
  },
  {
   "cell_type": "code",
   "execution_count": 44,
   "id": "65e66d2a",
   "metadata": {
    "scrolled": true
   },
   "outputs": [
    {
     "name": "stdout",
     "output_type": "stream",
     "text": [
      "<class 'pandas.core.frame.DataFrame'>\n",
      "RangeIndex: 922 entries, 0 to 921\n",
      "Data columns (total 10 columns):\n",
      " #   Column       Non-Null Count  Dtype  \n",
      "---  ------       --------------  -----  \n",
      " 0   track_id     922 non-null    int64  \n",
      " 1    type        922 non-null    object \n",
      " 2    traveled_d  922 non-null    float64\n",
      " 3    avg_speed   922 non-null    float64\n",
      " 4    lat         922 non-null    float64\n",
      " 5    lon         922 non-null    float64\n",
      " 6    speed       922 non-null    float64\n",
      " 7    lon_acc     922 non-null    float64\n",
      " 8    lat_acc     922 non-null    float64\n",
      " 9    time        922 non-null    float64\n",
      "dtypes: float64(8), int64(1), object(1)\n",
      "memory usage: 72.2+ KB\n"
     ]
    }
   ],
   "source": [
    "df.info()"
   ]
  },
  {
   "cell_type": "code",
   "execution_count": 54,
   "id": "edaa9529",
   "metadata": {},
   "outputs": [],
   "source": [
    "df.to_csv('cleanData.csv', index = False)"
   ]
  },
  {
   "cell_type": "code",
   "execution_count": 55,
   "id": "12be174c",
   "metadata": {},
   "outputs": [],
   "source": [
    "df_clean = pd.read_csv('cleanData.csv')"
   ]
  },
  {
   "cell_type": "code",
   "execution_count": 63,
   "id": "93b5b6d2",
   "metadata": {},
   "outputs": [
    {
     "data": {
      "text/plain": [
       "0"
      ]
     },
     "execution_count": 63,
     "metadata": {},
     "output_type": "execute_result"
    }
   ],
   "source": [
    "# checking null\n",
    "df_clean.isna().any().sum()"
   ]
  },
  {
   "cell_type": "code",
   "execution_count": 66,
   "id": "65e05831",
   "metadata": {},
   "outputs": [],
   "source": [
    "#df_clean['traveled_d'].value_counts()"
   ]
  },
  {
   "cell_type": "code",
   "execution_count": 69,
   "id": "6c7f1d5d",
   "metadata": {},
   "outputs": [
    {
     "data": {
      "text/plain": [
       "<AxesSubplot:>"
      ]
     },
     "execution_count": 69,
     "metadata": {},
     "output_type": "execute_result"
    },
    {
     "data": {
      "image/png": "[encoded data removed]",
      "text/plain": [
       "<Figure size 432x288 with 1 Axes>"
      ]
     },
     "metadata": {
      "needs_background": "light"
     },
     "output_type": "display_data"
    }
   ],
   "source": [
    "df_clean[' traveled_d'].hist()"
   ]
  },
  {
   "cell_type": "code",
   "execution_count": null,
   "id": "9685bb2b",
   "metadata": {},
   "outputs": [],
   "source": [
    "df_clean"
   ]
  }
 ],
 "metadata": {
  "kernelspec": {
   "display_name": "Python 3 (ipykernel)",
   "language": "python",
   "name": "python3"
  },
  "language_info": {
   "codemirror_mode": {
    "name": "ipython",
    "version": 3
   },
   "file_extension": ".py",
   "mimetype": "text/x-python",
   "name": "python",
   "nbconvert_exporter": "python",
   "pygments_lexer": "ipython3",
   "version": "3.9.7"
  }
 },
 "nbformat": 4,
 "nbformat_minor": 5
}
